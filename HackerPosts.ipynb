{
 "cells": [
  {
   "cell_type": "markdown",
   "metadata": {
    "collapsed": true
   },
   "source": [
    "## Investigating Hacker News Posts with the Most Comments \n",
    "\n",
    "**LOOPS, MANIPULATING STRINGS AND DATE/TIME DATA**\n",
    "\n",
    "![Image](https://s3.amazonaws.com/dq-content/354/hacker_news.jpg)\n",
    "\n",
    "Hacker News is a site established by the startup incubator *Y Combinator*, where user-submitted stories (known as \"posts\") are voted and commented on. Hacker News is extremely popular in the technology and startup fields, and posts that make it to the top of Hacker News' listings (e.g., receive the most points or comments) can get hundreds of thousands of visitors as a result. \n",
    "\n",
    "The current project focuses on determining what kinds of Hacker News posts receive more comments.\n",
    "Specifically, we will focus analyses on:\n",
    "1. Do *Ask HN* or *Show HN* posts receive more comments? (*Ask HN* posts pose questions to the community, while *Show HN* posts show material, such as projects, products, etc.)\n",
    "2. Do posts created at a certain time receive more comments on average?\n",
    "\n",
    "The dataset can be found [here](https://www.kaggle.com/hacker-news/hacker-news-posts). Note that this is cleaned version, reduced from 300,000 submissions down to 20,000 (submissions without comments were removed, and then 20,000 submissions were randomly sampled from the remaining dataset).\n",
    "\n",
    "Below are the brief descriptions for each column:\n",
    "\n",
    "* id: Unique identifier for the post\n",
    "* title: Title of the post\n",
    "* url: URL that the post links to\n",
    "* num_points: Number of points the post acquired (calculated as total number of upvotes minus total number of downvotes)\n",
    "* num_comments: Number of comments made on the post\n",
    "* author: Username of person who submitted the post\n",
    "* created_at: Date and time which the post was submitted\n",
    "\n",
    "Let us start by importing libraries and reading the dataset: "
   ]
  },
  {
   "cell_type": "code",
   "execution_count": 120,
   "metadata": {
    "collapsed": false
   },
   "outputs": [
    {
     "name": "stdout",
     "output_type": "stream",
     "text": [
      "['id', 'title', 'url', 'num_points', 'num_comments', 'author', 'created_at']\n",
      "['12224879', 'Interactive Dynamic Video', 'http://www.interactivedynamicvideo.com/', '386', '52', 'ne0phyte', '8/4/2016 11:52']\n",
      "['10975351', 'How to Use Open Source and Shut the Fuck Up at the Same Time', 'http://hueniverse.com/2016/01/26/how-to-use-open-source-and-shut-the-fuck-up-at-the-same-time/', '39', '10', 'josep2', '1/26/2016 19:30']\n",
      "['11964716', \"Florida DJs May Face Felony for April Fools' Water Joke\", 'http://www.thewire.com/entertainment/2013/04/florida-djs-april-fools-water-joke/63798/', '2', '1', 'vezycash', '6/23/2016 22:20']\n",
      "['11919867', 'Technology ventures: From Idea to Enterprise', 'https://www.amazon.com/Technology-Ventures-Enterprise-Thomas-Byers/dp/0073523429', '3', '1', 'hswarna', '6/17/2016 0:01']\n"
     ]
    }
   ],
   "source": [
    "#import libraries and read file\n",
    "\n",
    "from csv import reader\n",
    "opened_file = open(\"hacker_news.csv\")\n",
    "read_file = reader(opened_file)\n",
    "hn = list(read_file)\n",
    "\n",
    "#Display first 5 rows of dataset\n",
    "\n",
    "for i in range(5):\n",
    "    print(hn[i])"
   ]
  },
  {
   "cell_type": "markdown",
   "metadata": {
    "collapsed": true
   },
   "source": [
    "The first row contains the names of our columns. Let's amend our Hacker News dataset by removing column names:"
   ]
  },
  {
   "cell_type": "code",
   "execution_count": 121,
   "metadata": {
    "collapsed": false
   },
   "outputs": [
    {
     "name": "stdout",
     "output_type": "stream",
     "text": [
      "['12224879', 'Interactive Dynamic Video', 'http://www.interactivedynamicvideo.com/', '386', '52', 'ne0phyte', '8/4/2016 11:52']\n",
      "['10975351', 'How to Use Open Source and Shut the Fuck Up at the Same Time', 'http://hueniverse.com/2016/01/26/how-to-use-open-source-and-shut-the-fuck-up-at-the-same-time/', '39', '10', 'josep2', '1/26/2016 19:30']\n",
      "['11964716', \"Florida DJs May Face Felony for April Fools' Water Joke\", 'http://www.thewire.com/entertainment/2013/04/florida-djs-april-fools-water-joke/63798/', '2', '1', 'vezycash', '6/23/2016 22:20']\n",
      "['11919867', 'Technology ventures: From Idea to Enterprise', 'https://www.amazon.com/Technology-Ventures-Enterprise-Thomas-Byers/dp/0073523429', '3', '1', 'hswarna', '6/17/2016 0:01']\n",
      "['10301696', 'Note by Note: The Making of Steinway L1037 (2007)', 'http://www.nytimes.com/2007/11/07/movies/07stein.html?_r=0', '8', '2', 'walterbell', '9/30/2015 4:12']\n"
     ]
    }
   ],
   "source": [
    "#Remove header row from dataset\n",
    "\n",
    "hn_header = hn[:0]\n",
    "hn = hn[1:]\n",
    "\n",
    "for i in range(5):\n",
    "    print(hn[i])"
   ]
  },
  {
   "cell_type": "markdown",
   "metadata": {},
   "source": [
    "Based on our aims, we are interested in exploring post titles beginning with *Ask HN* or *Show HN*. We will filter for these posts using the `lower` method and the `startswith` string method to separate them into 2 different lists: "
   ]
  },
  {
   "cell_type": "code",
   "execution_count": 122,
   "metadata": {
    "collapsed": false
   },
   "outputs": [
    {
     "name": "stdout",
     "output_type": "stream",
     "text": [
      "1744\n",
      "1162\n",
      "18938\n",
      "\n",
      "\n",
      "[['12296411', 'Ask HN: How to improve my personal website?', '', '2', '6', 'ahmedbaracat', '8/16/2016 9:55'], ['10610020', 'Ask HN: Am I the only one outraged by Twitter shutting down share counts?', '', '28', '29', 'tkfx', '11/22/2015 13:43'], ['11610310', 'Ask HN: Aby recent changes to CSS that broke mobile?', '', '1', '1', 'polskibus', '5/2/2016 10:14'], ['12210105', 'Ask HN: Looking for Employee #3 How do I do it?', '', '1', '3', 'sph130', '8/2/2016 14:20']]\n",
      "\n",
      "\n",
      "[['10627194', 'Show HN: Wio Link  ESP8266 Based Web of Things Hardware Development Platform', 'https://iot.seeed.cc', '26', '22', 'kfihihc', '11/25/2015 14:03'], ['10646440', 'Show HN: Something pointless I made', 'http://dn.ht/picklecat/', '747', '102', 'dhotson', '11/29/2015 22:46'], ['11590768', 'Show HN: Shanhu.io, a programming playground powered by e8vm', 'https://shanhu.io', '1', '1', 'h8liu', '4/28/2016 18:05'], ['12178806', 'Show HN: Webscope  Easy way for web developers to communicate with Clients', 'http://webscopeapp.com', '3', '3', 'fastbrick', '7/28/2016 7:11']]\n",
      "\n",
      "\n",
      "[['12224879', 'Interactive Dynamic Video', 'http://www.interactivedynamicvideo.com/', '386', '52', 'ne0phyte', '8/4/2016 11:52'], ['10975351', 'How to Use Open Source and Shut the Fuck Up at the Same Time', 'http://hueniverse.com/2016/01/26/how-to-use-open-source-and-shut-the-fuck-up-at-the-same-time/', '39', '10', 'josep2', '1/26/2016 19:30'], ['11964716', \"Florida DJs May Face Felony for April Fools' Water Joke\", 'http://www.thewire.com/entertainment/2013/04/florida-djs-april-fools-water-joke/63798/', '2', '1', 'vezycash', '6/23/2016 22:20'], ['11919867', 'Technology ventures: From Idea to Enterprise', 'https://www.amazon.com/Technology-Ventures-Enterprise-Thomas-Byers/dp/0073523429', '3', '1', 'hswarna', '6/17/2016 0:01']]\n"
     ]
    }
   ],
   "source": [
    "##Filter Ask HN and Show HN into separate lists\n",
    "\n",
    "ask_posts = []\n",
    "show_posts = []\n",
    "other_posts = []\n",
    "\n",
    "for row in hn:\n",
    "    title = row[1]\n",
    "    title = title.lower()\n",
    "    if title.startswith('ask hn'):\n",
    "        ask_posts.append(row)\n",
    "    if title.startswith('show hn'):\n",
    "        show_posts.append(row)\n",
    "    else:\n",
    "        other_posts.append(row)\n",
    "\n",
    "print(len(ask_posts))\n",
    "print(len(show_posts))\n",
    "print(len(other_posts))\n",
    "print('\\n')\n",
    "print(ask_posts[0:4])\n",
    "print('\\n')\n",
    "print(show_posts[0:4])\n",
    "print('\\n')\n",
    "print(other_posts[0:4])"
   ]
  },
  {
   "cell_type": "markdown",
   "metadata": {},
   "source": [
    "Above, we see that the majority of posts (18,938) are classified as other (i.e., neither *Ask HN* or *Show HN*). Additionally, there are 1,744 posts that start with *Ask HN*, and 1,162 posts that begin with *Show HN*.\n",
    "\n",
    "### Average Number of Comments per Post Type\n",
    "\n",
    "Let's assess which of these 2 classes of posts have more comments, on average:"
   ]
  },
  {
   "cell_type": "code",
   "execution_count": 124,
   "metadata": {
    "collapsed": false
   },
   "outputs": [
    {
     "name": "stdout",
     "output_type": "stream",
     "text": [
      "The average number of Ask HN comments per post is: 14.038417431192661\n",
      "\n",
      "\n",
      "The average number of Show HN comments per post is: 10.31669535283993\n"
     ]
    }
   ],
   "source": [
    "#Compute average number of comments for ask_posts:\n",
    "\n",
    "total_ask_comments = 0\n",
    "for row in ask_posts:\n",
    "    num_comments = int(row[4])\n",
    "    total_ask_comments += num_comments\n",
    "    avg_ask_comments = total_ask_comments/len(ask_posts)\n",
    "    \n",
    "print(\"The average number of Ask HN comments per post is:\", avg_ask_comments)\n",
    "print('\\n')\n",
    "\n",
    "#Compute average number of comments for show_posts:\n",
    "\n",
    "total_show_comments = 0\n",
    "for row in show_posts:\n",
    "    num_comments = int(row[4])\n",
    "    total_show_comments += num_comments\n",
    "    avg_show_comments = total_show_comments/len(show_posts)\n",
    "    \n",
    "print(\"The average number of Show HN comments per post is:\", avg_show_comments)"
   ]
  },
  {
   "cell_type": "markdown",
   "metadata": {},
   "source": [
    "Our computed averages demonstrate that *Ask HN* posts receive 4 more comments on average, compared to *Show HN* comments. We can infer that *Ask HN* posts encourage more activity and interaction, compared to *Show HN*."
   ]
  },
  {
   "cell_type": "markdown",
   "metadata": {
    "collapsed": true
   },
   "source": [
    "### Average Number of Comments for *Ask HN* Posts by Hour\n",
    "\n",
    "Next, we will determine whether *Ask HN* posts created at a certain time attract more comments. To do so, we will:\n",
    "\n",
    "1. Calculate the amount of *Ask HN* posts created each hour of the day along with the number of comments received.\n",
    "2. Calculate the average number of comments *Ask HN* posts receive by hour created.\n",
    "\n",
    "Let us start with step 1, creating frequency tables for the number of posts per hour and number of comments per hour:"
   ]
  },
  {
   "cell_type": "code",
   "execution_count": 125,
   "metadata": {
    "collapsed": false
   },
   "outputs": [
    {
     "name": "stdout",
     "output_type": "stream",
     "text": [
      "Frequency Table for Number of Ask Posts per Hour:\n",
      "00 : 55\n",
      "01 : 60\n",
      "02 : 58\n",
      "03 : 54\n",
      "04 : 47\n",
      "05 : 46\n",
      "06 : 44\n",
      "07 : 34\n",
      "08 : 48\n",
      "09 : 45\n",
      "10 : 59\n",
      "11 : 58\n",
      "12 : 73\n",
      "13 : 85\n",
      "14 : 107\n",
      "15 : 116\n",
      "16 : 108\n",
      "17 : 100\n",
      "18 : 109\n",
      "19 : 110\n",
      "20 : 80\n",
      "21 : 109\n",
      "22 : 71\n",
      "23 : 68\n",
      "\n",
      "\n",
      "Frequency Table for Number of Ask Comments per Hour:\n",
      "00 : 447\n",
      "01 : 683\n",
      "02 : 1381\n",
      "03 : 421\n",
      "04 : 337\n",
      "05 : 464\n",
      "06 : 397\n",
      "07 : 267\n",
      "08 : 492\n",
      "09 : 251\n",
      "10 : 793\n",
      "11 : 641\n",
      "12 : 687\n",
      "13 : 1253\n",
      "14 : 1416\n",
      "15 : 4477\n",
      "16 : 1814\n",
      "17 : 1146\n",
      "18 : 1439\n",
      "19 : 1188\n",
      "20 : 1722\n",
      "21 : 1745\n",
      "22 : 479\n",
      "23 : 543\n"
     ]
    }
   ],
   "source": [
    "#Number of Ask HN posts and comments by hour created\n",
    "\n",
    "import datetime as dt\n",
    "\n",
    "counts_by_hour = {}\n",
    "comments_by_hour = {}\n",
    "\n",
    "for row in ask_posts:\n",
    "    created = row[6]\n",
    "    num_comments = int(row[4])\n",
    "    date = row[-1]\n",
    "    date = dt.datetime.strptime(date, \"%m/%d/%Y %H:%M\")\n",
    "    hour = dt.datetime.strftime(date, '%H')\n",
    "    if hour not in counts_by_hour:\n",
    "        counts_by_hour[hour] = 1\n",
    "        comments_by_hour[hour] = num_comments\n",
    "    else:\n",
    "        counts_by_hour[hour] += 1\n",
    "        comments_by_hour[hour] += num_comments\n",
    "\n",
    "print(\"Frequency Table for Number of Ask Posts per Hour:\")\n",
    "for key in sorted(counts_by_hour.keys()):\n",
    "    print(key, \":\", counts_by_hour[key])\n",
    "    \n",
    "print('\\n')\n",
    "print(\"Frequency Table for Number of Ask Comments per Hour:\")\n",
    "for key in sorted(comments_by_hour.keys()):\n",
    "    print(key, \":\", comments_by_hour[key])"
   ]
  },
  {
   "cell_type": "markdown",
   "metadata": {},
   "source": [
    "Looking at our first frequency table, we see that the hour with the most number of posts is 3:00PM (i.e., 15th hour), with 116 posts. Generally, however, we can see that the majority of posts are made available between the hours of 2:00PM and 9:00PM (i.e., between the 14th and 21st hour). The fewest posts are made available during the early morning hours (4:00AM to 9:00AM).\n",
    "\n",
    "Looking at our second frequency table, we see that the hour with the most number of comments is also 3:00PM (i.e., the 15th hour). Generally, most comments are posted between the hours of 1:00PM and 9:00PM (i.e., between the 13th and 21st hour).\n",
    "\n",
    "We can surmise a number of things here:\n",
    "1. There is a flurry of activity, both posting and commenting, during the mid-afternoon and evening hours.\n",
    "2. It's possible that people comment more during these hours because people know more posts are made available during this time.\n",
    "3. Conversely, we can theorize that those who are around to comment during this time may also be available to post more *Ask HN* content.\n",
    "\n",
    "Let us now investigate point 2, calculating the average number of comments an *Ask HN* post receives by hour created."
   ]
  },
  {
   "cell_type": "code",
   "execution_count": 129,
   "metadata": {
    "collapsed": false
   },
   "outputs": [
    {
     "name": "stdout",
     "output_type": "stream",
     "text": [
      "Average Number of Comments an Ask HN Post Receives per Hour\n",
      "\n",
      "\n",
      "At 00:00, there were 8.13 average comments per post\n",
      "At 01:00, there were 11.38 average comments per post\n",
      "At 02:00, there were 23.81 average comments per post\n",
      "At 03:00, there were 7.80 average comments per post\n",
      "At 04:00, there were 7.17 average comments per post\n",
      "At 05:00, there were 10.09 average comments per post\n",
      "At 06:00, there were 9.02 average comments per post\n",
      "At 07:00, there were 7.85 average comments per post\n",
      "At 08:00, there were 10.25 average comments per post\n",
      "At 09:00, there were 5.58 average comments per post\n",
      "At 10:00, there were 13.44 average comments per post\n",
      "At 11:00, there were 11.05 average comments per post\n",
      "At 12:00, there were 9.41 average comments per post\n",
      "At 13:00, there were 14.74 average comments per post\n",
      "At 14:00, there were 13.23 average comments per post\n",
      "At 15:00, there were 38.59 average comments per post\n",
      "At 16:00, there were 16.80 average comments per post\n",
      "At 17:00, there were 11.46 average comments per post\n",
      "At 18:00, there were 13.20 average comments per post\n",
      "At 19:00, there were 10.80 average comments per post\n",
      "At 20:00, there were 21.52 average comments per post\n",
      "At 21:00, there were 16.01 average comments per post\n",
      "At 22:00, there were 6.75 average comments per post\n",
      "At 23:00, there were 7.99 average comments per post\n"
     ]
    }
   ],
   "source": [
    "#Calculate average number of comments for Ask posts for each hour\n",
    "\n",
    "avg_by_hour = []\n",
    "\n",
    "for key in comments_by_hour:\n",
    "    avg_by_hour.append([key, comments_by_hour[key]/counts_by_hour[key]])\n",
    "\n",
    "#Sort lists by hour:\n",
    "\n",
    "sorted_abh = sorted(avg_by_hour)\n",
    "\n",
    "#Organizing output\n",
    "\n",
    "print(\"Average Number of Comments an Ask HN Post Receives per Hour\")\n",
    "print('\\n')\n",
    "template = \"At {hour}:00, there were {avg:,.2f} average comments per post\"\n",
    "for row in sorted_abh:\n",
    "    hour = row[0]\n",
    "    avg = row[1]\n",
    "    output = template.format(hour=hour, avg=avg)\n",
    "    print(output)"
   ]
  },
  {
   "cell_type": "markdown",
   "metadata": {
    "collapsed": false
   },
   "source": [
    "Above, we see that that, on average, the greatest number of comments occur at 3:00PM (i.e., the 15th hour), with an average of 38 comments. Interestingly, the second largest average number of comments occurs at 2:00AM, with an average of 23 comments.\n",
    "\n",
    "#### Conclusion for *Ask HN* Posts:\n",
    "\n",
    "1. We began our analysis focusing on *Ask HN* posts, given that *Ask HN* posts are more popular (i.e., there are more of these types of posts. \n",
    "2. The greatest number of *Ask HN* posts are posted at ~3PM.\n",
    "3. The greatest number of comments for *Ask HN* are posted at ~3PM. Relatedly, the largest average number of comments per post occurs at ~3PM.\n",
    "\n",
    "Of course, one resulting question is why is there such a flurry of activity during this time for *Ask HN* posts. One hypothesis is that this is the time during the workday where people are most likely to have a break, and so they have a bit of time to visit and interact with their favorite websites. \n",
    "\n",
    "Another question is why are there more comments on average for *Ask HN* posts compared to *Show HN* posts. One explanation is perhaps people are instrinsically motivated to want to help people, so we are likelier to read *Ask HN* posts to help posters resolve their questions."
   ]
  },
  {
   "cell_type": "markdown",
   "metadata": {
    "collapsed": true
   },
   "source": [
    "### Average Number of Comments for *Show HN* Posts by Hour\n",
    "\n",
    "Let's redo the previous analysis focusing on the *Show HN* data. Perhaps we don't have anything to ask, but we would still like to maximize viewers/commentor numbers if we instead want to show something."
   ]
  },
  {
   "cell_type": "code",
   "execution_count": 130,
   "metadata": {
    "collapsed": false
   },
   "outputs": [
    {
     "name": "stdout",
     "output_type": "stream",
     "text": [
      "Frequency Table for Number of Show Posts per Hour:\n",
      "00 : 31\n",
      "01 : 28\n",
      "02 : 30\n",
      "03 : 27\n",
      "04 : 26\n",
      "05 : 19\n",
      "06 : 16\n",
      "07 : 26\n",
      "08 : 34\n",
      "09 : 30\n",
      "10 : 36\n",
      "11 : 44\n",
      "12 : 61\n",
      "13 : 99\n",
      "14 : 86\n",
      "15 : 78\n",
      "16 : 93\n",
      "17 : 93\n",
      "18 : 61\n",
      "19 : 55\n",
      "20 : 60\n",
      "21 : 47\n",
      "22 : 46\n",
      "23 : 36\n",
      "\n",
      "\n",
      "Frequency Table for Number of Show Comments per Hour:\n",
      "00 : 487\n",
      "01 : 246\n",
      "02 : 127\n",
      "03 : 287\n",
      "04 : 247\n",
      "05 : 58\n",
      "06 : 142\n",
      "07 : 299\n",
      "08 : 165\n",
      "09 : 291\n",
      "10 : 297\n",
      "11 : 491\n",
      "12 : 720\n",
      "13 : 946\n",
      "14 : 1156\n",
      "15 : 632\n",
      "16 : 1084\n",
      "17 : 911\n",
      "18 : 962\n",
      "19 : 539\n",
      "20 : 612\n",
      "21 : 272\n",
      "22 : 570\n",
      "23 : 447\n"
     ]
    }
   ],
   "source": [
    "#Number of Ask HN posts and comments by hour created\n",
    "\n",
    "import datetime as dt\n",
    "\n",
    "counts_by_hour = {}\n",
    "comments_by_hour = {}\n",
    "\n",
    "for row in show_posts:\n",
    "    created = row[6]\n",
    "    num_comments = int(row[4])\n",
    "    date = row[-1]\n",
    "    date = dt.datetime.strptime(date, \"%m/%d/%Y %H:%M\")\n",
    "    hour = dt.datetime.strftime(date, '%H')\n",
    "    if hour not in counts_by_hour:\n",
    "        counts_by_hour[hour] = 1\n",
    "        comments_by_hour[hour] = num_comments\n",
    "    else:\n",
    "        counts_by_hour[hour] += 1\n",
    "        comments_by_hour[hour] += num_comments\n",
    "\n",
    "print(\"Frequency Table for Number of Show Posts per Hour:\")\n",
    "for key in sorted(counts_by_hour.keys()):\n",
    "    print(key, \":\", counts_by_hour[key])\n",
    "    \n",
    "print('\\n')\n",
    "print(\"Frequency Table for Number of Show Comments per Hour:\")\n",
    "for key in sorted(comments_by_hour.keys()):\n",
    "    print(key, \":\", comments_by_hour[key])"
   ]
  },
  {
   "cell_type": "markdown",
   "metadata": {},
   "source": [
    "Looking at our first frequency table, we see that the hour with the most number of posts is 1:00PM (i.e., 13th hour), with 99 posts. Generally, however, we can see that the majority of posts are made available between the hours of 1:00PM and 5:00PM (i.e., between the 13th and 17th hour). The fewest posts are made available during the late /early morning hours (11:00PM to 10:00AM).\n",
    "\n",
    "Looking at our second frequency table, we see that the hour with the most number of comments is 2:00PM (i.e., the 14th hour). Generally, most comments are posted between the hours of 12:00PM and 6:00PM (i.e., between the 12th and 18th hour).\n",
    "\n",
    "Some interpretations:\n",
    "1. There is a flurry of activity, both posting and commenting, during the mid-afternoon and early evening hours.\n",
    "2. It's possible that people comment more during these hours because people know more posts are made available during this time.\n",
    "\n",
    "Let's compute the average number of comments a typical *Show HN* post receives by hour created."
   ]
  },
  {
   "cell_type": "code",
   "execution_count": 131,
   "metadata": {
    "collapsed": false
   },
   "outputs": [
    {
     "name": "stdout",
     "output_type": "stream",
     "text": [
      "Average Number of Comments a Show HN Post Receives per Hour\n",
      "\n",
      "\n",
      "At 00:00, there were 15.71 average comments per post\n",
      "At 01:00, there were 8.79 average comments per post\n",
      "At 02:00, there were 4.23 average comments per post\n",
      "At 03:00, there were 10.63 average comments per post\n",
      "At 04:00, there were 9.50 average comments per post\n",
      "At 05:00, there were 3.05 average comments per post\n",
      "At 06:00, there were 8.88 average comments per post\n",
      "At 07:00, there were 11.50 average comments per post\n",
      "At 08:00, there were 4.85 average comments per post\n",
      "At 09:00, there were 9.70 average comments per post\n",
      "At 10:00, there were 8.25 average comments per post\n",
      "At 11:00, there were 11.16 average comments per post\n",
      "At 12:00, there were 11.80 average comments per post\n",
      "At 13:00, there were 9.56 average comments per post\n",
      "At 14:00, there were 13.44 average comments per post\n",
      "At 15:00, there were 8.10 average comments per post\n",
      "At 16:00, there were 11.66 average comments per post\n",
      "At 17:00, there were 9.80 average comments per post\n",
      "At 18:00, there were 15.77 average comments per post\n",
      "At 19:00, there were 9.80 average comments per post\n",
      "At 20:00, there were 10.20 average comments per post\n",
      "At 21:00, there were 5.79 average comments per post\n",
      "At 22:00, there were 12.39 average comments per post\n",
      "At 23:00, there were 12.42 average comments per post\n"
     ]
    }
   ],
   "source": [
    "#Calculate average number of show comments for posts for each hour\n",
    "\n",
    "avg_by_hour = []\n",
    "\n",
    "for key in comments_by_hour:\n",
    "    avg_by_hour.append([key, comments_by_hour[key]/counts_by_hour[key]])\n",
    "\n",
    "#Sort lists by hour:\n",
    "\n",
    "sorted_abh = sorted(avg_by_hour)\n",
    "\n",
    "#Organizing output\n",
    "\n",
    "print(\"Average Number of Comments a Show HN Post Receives per Hour\")\n",
    "print('\\n')\n",
    "template = \"At {hour}:00, there were {avg:,.2f} average comments per post\"\n",
    "for row in sorted_abh:\n",
    "    hour = row[0]\n",
    "    avg = row[1]\n",
    "    output = template.format(hour=hour, avg=avg)\n",
    "    print(output)"
   ]
  },
  {
   "cell_type": "markdown",
   "metadata": {},
   "source": [
    "Above, we see that that, on average, the greatest number of comments per *Show HN* post occurs at 5:00PM (i.e., the 18th hour), with an average of 15.77 comments. Interestingly, the second highest average number of comments per post (15.71) occurs at midnight (12:00AM)\n",
    "\n",
    "#### Conclusion for *Show HN* Posts:\n",
    "\n",
    "1. The greatest number of *Show HN* posts are posted at ~1PM.\n",
    "2. The greatest number of comments for *Show HN* are posted at ~2PM. Relatedly, the largest average number of comments per post occur at 5PM and 12AM.\n",
    "\n",
    "There is an interesting pattern here. Most content is posted in the early afternoon, likely because people have time during lunch or their early afternoon break to share content. However, most comments occur in the early afternoon, and the largest average number of comments occurs early (5PM) and late (12AM) evening.\n",
    "\n",
    "Commenting activity may occur later in the day because this is the time when people are no longer at work, and they have time to dedicate to reading the longer articles characteristic of *Show HN* posts. \n",
    "\n",
    "It would be interesting to see whether the length of  *Show HN* posts plays a role in the number of comments received as well. Also, we can consider the variable `num_points`, which is the number of votes a post receives, as a proxy for popularity."
   ]
  }
 ],
 "metadata": {
  "kernelspec": {
   "display_name": "Python 3",
   "language": "python",
   "name": "python3"
  },
  "language_info": {
   "codemirror_mode": {
    "name": "ipython",
    "version": 3
   },
   "file_extension": ".py",
   "mimetype": "text/x-python",
   "name": "python",
   "nbconvert_exporter": "python",
   "pygments_lexer": "ipython3",
   "version": "3.4.3"
  }
 },
 "nbformat": 4,
 "nbformat_minor": 2
}
